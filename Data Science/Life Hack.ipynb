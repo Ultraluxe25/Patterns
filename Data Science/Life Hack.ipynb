{
 "cells": [
  {
   "cell_type": "markdown",
   "id": "759f51e6",
   "metadata": {},
   "source": [
    "# Здесь лежат листинги, которые являются полезными паттернами"
   ]
  },
  {
   "cell_type": "code",
   "execution_count": 2,
   "id": "ab354964",
   "metadata": {},
   "outputs": [],
   "source": [
    "# Для красивой визуализации\n",
    "import seaborn as sns\n",
    "\n",
    "sns.set(rc={'figure.figsize': (9, 6)})"
   ]
  },
  {
   "cell_type": "code",
   "execution_count": null,
   "id": "6a469830",
   "metadata": {},
   "outputs": [],
   "source": [
    "# проверим количество пропусков в датафрейме\n",
    "import pandas as pd\n",
    "\n",
    "df.isnull().sum()"
   ]
  },
  {
   "cell_type": "code",
   "execution_count": null,
   "id": "b915ba40",
   "metadata": {},
   "outputs": [],
   "source": [
    "# удаляем лишние колонки из датафрейма\n",
    "X = df.drop(['PassengerId', 'Survived', 'Name', 'Ticket', 'Cabin'], axis=1)\n",
    "X.head()"
   ]
  },
  {
   "cell_type": "code",
   "execution_count": null,
   "id": "7fb81609",
   "metadata": {},
   "outputs": [],
   "source": [
    "# садим дерево\n",
    "from sklearn import tree\n",
    "\n",
    "clf = tree.DecisionTreeClassifier(criterion='entropy', max_depth=1000)"
   ]
  },
  {
   "cell_type": "code",
   "execution_count": null,
   "id": "87d8365e",
   "metadata": {},
   "outputs": [],
   "source": [
    "# разобъём выборку на тренировочную и тестовую\n",
    "from sklearn.model_selection import train_test_split\n",
    "X_train, X_test, y_train, y_test = train_test_split(X,\n",
    "                                                    y,\n",
    "                                                    test_size=0.33,\n",
    "                                                    random_state=42)"
   ]
  },
  {
   "cell_type": "code",
   "execution_count": null,
   "id": "d12c53c2",
   "metadata": {},
   "outputs": [],
   "source": [
    "# проверим результат прогноза\n",
    "print(f'Тренировочная выборка {np.round(clf.score(X_train, y_train), 4)}')\n",
    "print(f'Тестовая выборка {np.round(clf.score(X_test, y_test), 4)}')"
   ]
  },
  {
   "cell_type": "code",
   "execution_count": null,
   "id": "a3d54754",
   "metadata": {},
   "outputs": [],
   "source": [
    "# проведём кросс-валидацию\n",
    "from sklearn.model_selection import cross_val_score\n",
    "\n",
    "clf = tree.DecisionTreeClassifier(criterion='entropy', max_depth=4)\n",
    "\n",
    "# протестируем наш классификатор c помощью кросс-валидации\n",
    "cross_val_score(clf, X_train, y_train, cv=5)\n",
    "\n",
    "# получим среднюю точность на кросс-валидации\n",
    "cross_val_score(clf, X_train, y_train, cv=5).mean()"
   ]
  },
  {
   "cell_type": "code",
   "execution_count": null,
   "id": "bc280854",
   "metadata": {},
   "outputs": [],
   "source": [
    "# садим 100 разных по глубине решающих деревьев\n",
    "rs = np.random.seed(0)\n",
    "max_depth_values = range(1, 101)\n",
    "scores = []\n",
    "\n",
    "for i in max_depth_values:\n",
    "    clf = tree.DecisionTreeClassifier(criterion='entropy',\n",
    "                                     max_depth=i,\n",
    "                                     random_state=rs)\n",
    "    \n",
    "    # обучаем модель и делаем прогноз на тестовых данных\n",
    "    clf.fit(X_train, y_train)\n",
    "    scores.append(clf.score(X_test, y_test))\n",
    "\n",
    "# визуализируем значения score\n",
    "ax = sns.lineplot(data=scores)\n",
    "ax.lines[0].set_linestyle('--')\n",
    "plt.xlabel('Глибина деревьев')\n",
    "plt.ylabel('Точность скора');"
   ]
  },
  {
   "cell_type": "code",
   "execution_count": 3,
   "id": "dc0f1428",
   "metadata": {},
   "outputs": [
    {
     "name": "stdout",
     "output_type": "stream",
     "text": [
      "[[4, 5, 6], [8, 10, 12], [12, 15, 18]]\n"
     ]
    }
   ],
   "source": [
    "# вложенный генератор списков\n",
    "x = [1, 2, 3]\n",
    "y = [4, 5, 6]\n",
    "\n",
    "c = [[i * j for j in y] for i in x]\n",
    "print(c)"
   ]
  },
  {
   "cell_type": "code",
   "execution_count": null,
   "id": "17990f3b",
   "metadata": {},
   "outputs": [],
   "source": [
    "# рассмотрим долю пропущенных значений\n",
    "df.isna().sum() / df.shape[0]"
   ]
  },
  {
   "cell_type": "code",
   "execution_count": null,
   "id": "c5f37dcc",
   "metadata": {},
   "outputs": [],
   "source": [
    "# заполним пропуски модой\n",
    "df = df.fillna(value=df.mode().iloc[0])"
   ]
  },
  {
   "cell_type": "code",
   "execution_count": null,
   "id": "76bb10a8",
   "metadata": {},
   "outputs": [],
   "source": [
    "# cделаем One-Hot преобразование при помощи pandas\n",
    "df_label = pd.get_dummies(df, drop_first=True)"
   ]
  },
  {
   "cell_type": "code",
   "execution_count": null,
   "id": "ccf4e6db",
   "metadata": {},
   "outputs": [],
   "source": [
    "# стандартизируем данные после разбиения\n",
    "from sklearn.preprocessing import StandardScaler\n",
    "\n",
    "sc = StandardScaler()\n",
    "X_train_std = sc.fit_transform(X_train)\n",
    "X_test_std = sc.transform(X_test)"
   ]
  },
  {
   "cell_type": "code",
   "execution_count": null,
   "id": "1b5fa0b0",
   "metadata": {},
   "outputs": [],
   "source": [
    "# обучим модель логистической регрессии\n",
    "from sklearn.linear_model import LogisticRegression\n",
    "\n",
    "clf = LogisticRegression()\n",
    "clf.fit(X_train_std, y_train)"
   ]
  },
  {
   "cell_type": "code",
   "execution_count": null,
   "id": "d155f8a2",
   "metadata": {},
   "outputs": [],
   "source": [
    "# рассмотрим влияние признаков логистической регрессии на целевую переменную\n",
    "coef = pd.DataFrame(data=clf.coef_, columns=X.columns)\n",
    "coef = coef.T\n",
    "coef.columns = ['coefficient']\n",
    "coe"
   ]
  },
  {
   "cell_type": "code",
   "execution_count": null,
   "id": "e8011d00",
   "metadata": {},
   "outputs": [],
   "source": [
    "# рассмотрим метрику Accuracy:\n",
    "from sklearn.metrics import accuracy_score\n",
    "\n",
    "y_pred_test = clf.predict(X_test_std)\n",
    "y_pred_train = clf.predict(X_train_std)\n",
    "\n",
    "print(f'Accuracy Train: {accuracy_score(y_train, y_pred_train):.4f}')\n",
    "print(f'Accuracy Test: {accuracy_score(y_test, y_pred_test):.4f}')"
   ]
  },
  {
   "cell_type": "code",
   "execution_count": null,
   "id": "fa14754a",
   "metadata": {},
   "outputs": [],
   "source": [
    "# рассмотрим метрики precision (точность) и recall (полнота)\n",
    "from sklearn.metrics import precision_score, recall_score\n",
    "\n",
    "print(f'Precision Train: {precision_score(y_train, y_pred_train):.4f}')\n",
    "print(f'Precision Test: {precision_score(y_test, y_pred_test):.4f}')\n",
    "print()\n",
    "print(f'Recall Train: {recall_score(y_train, y_pred_train):.4f}')\n",
    "print(f'Recall Test: {recall_score(y_test, y_pred_test):.4f}')"
   ]
  },
  {
   "cell_type": "code",
   "execution_count": null,
   "id": "6b59a5e0",
   "metadata": {},
   "outputs": [],
   "source": [
    "# рассмотрим метрику f1 (среднее гармоническое)\n",
    "from sklearn.metrics import f1_score\n",
    "\n",
    "print(f'F1 train: {f1_score(y_train, y_pred_train):.4f}')\n",
    "print(f'F1 test: {f1_score(y_test, y_pred_test):.4f}')"
   ]
  },
  {
   "cell_type": "code",
   "execution_count": null,
   "id": "b8841396",
   "metadata": {},
   "outputs": [],
   "source": [
    "# рассмотрим метрику ROC-AUC (площадь под кривой ошибок)\n",
    "from sklearn.metrics import roc_auc_score\n",
    "\n",
    "y_pred_test_score = clf.predict_proba(X_test_std)\n",
    "y_pred_train_score = clf.predict_proba(X_train_std)\n",
    "\n",
    "print(f'ROC-AUC Train: {roc_auc_score(y_train, y_pred_train_score[:,1]):.4f}')\n",
    "print(f'ROC-AUC Test: {roc_auc_score(y_test, y_pred_test_score[:,1]):.4f}')"
   ]
  },
  {
   "cell_type": "code",
   "execution_count": 7,
   "id": "5d4f6c28",
   "metadata": {},
   "outputs": [],
   "source": [
    "# убираем предупреждения с экрана\n",
    "import warnings\n",
    "\n",
    "warnings.filterwarnings('ignore')"
   ]
  },
  {
   "cell_type": "markdown",
   "id": "b7511d7a",
   "metadata": {},
   "source": [
    "# Используем GridSearch при подборе"
   ]
  },
  {
   "cell_type": "code",
   "execution_count": 2,
   "id": "1ce7716c",
   "metadata": {},
   "outputs": [],
   "source": [
    "# импортируем библиотеки\n",
    "import pandas as pd\n",
    "import seaborn as sns\n",
    "from sklearn.model_selection import train_test_split, GridSearchCV\n",
    "from sklearn.preprocessing import StandardScaler\n",
    "from sklearn.linear_model import LogisticRegression\n",
    "from sklearn.metrics import roc_auc_score"
   ]
  },
  {
   "cell_type": "code",
   "execution_count": 2,
   "id": "f698e396",
   "metadata": {},
   "outputs": [
    {
     "name": "stdout",
     "output_type": "stream",
     "text": [
      "ROC-AUC train = 0.8690\n",
      "ROC-AUC test = 0.8683\n"
     ]
    }
   ],
   "source": [
    "# загружаем датасет Титаник\n",
    "df = sns.load_dataset('titanic')\n",
    "\n",
    "# удаляем неинформативные колонки\n",
    "df.drop(columns=['alive', 'deck'], inplace=True)\n",
    "\n",
    "# заполняем пропуски модами каждой из колонок\n",
    "df = df.fillna(df.mode().iloc[0])\n",
    "\n",
    "# разбиваем категориальные столбцы и удаляем один из классов,\n",
    "# чтобы предобвратить мультиколлинеарность\n",
    "df_label = pd.get_dummies(df, drop_first=True)\n",
    "\n",
    "# выделяем X и y\n",
    "X = df_label.drop('survived', axis=1)\n",
    "y = df.survived\n",
    "\n",
    "# разбиваем данные на train и test\n",
    "X_train, X_test, y_train, y_test = train_test_split(X,\n",
    "                                                    y,\n",
    "                                                    stratify=y,\n",
    "                                                    test_size=0.2,\n",
    "                                                    random_state=42)\n",
    "\n",
    "# стандартизируем данные\n",
    "sc = StandardScaler()\n",
    "X_train_std = sc.fit_transform(X_train)\n",
    "X_test_std = sc.transform(X_test)\n",
    "\n",
    "# обучаем модель логистической регрессии\n",
    "clf = LogisticRegression()\n",
    "clf.fit(X_train_std, y_train)\n",
    "\n",
    "# получаем вероятности\n",
    "y_train_proba = clf.predict_proba(X_train_std)\n",
    "y_test_proba = clf.predict_proba(X_test_std)\n",
    "\n",
    "# получаем значение метрики ROC-AUC\n",
    "print(f'ROC-AUC train = {roc_auc_score(y_train, y_train_proba[:, 1]):.4f}')\n",
    "print(f'ROC-AUC test = {roc_auc_score(y_test, y_test_proba[:, 1]):.4f}')"
   ]
  },
  {
   "cell_type": "code",
   "execution_count": 8,
   "id": "7679fa1e",
   "metadata": {},
   "outputs": [
    {
     "name": "stdout",
     "output_type": "stream",
     "text": [
      "ROC-AUC train = 0.8694\n",
      "ROC-AUC test = 0.8687\n"
     ]
    }
   ],
   "source": [
    "warnings.filterwarnings('ignore')\n",
    "\n",
    "# словарь для перебора\n",
    "parameters = {\n",
    "    'max_iter': [1000],\n",
    "    'C': [1, 10, 100],\n",
    "    \"solver\": [\"liblinear\", \"saga\", \"sag\", \"lbfgs\"],\n",
    "    'penalty': ['l1', 'l2', 'elasticnet', 'none'],\n",
    "    \"random_state\": [42],\n",
    "    \"class_weight\" : ['balanced']\n",
    "}\n",
    "\n",
    "lr = LogisticRegression()\n",
    "# подаем на вход модель, словарь с параметрами, установим, на какую метрику ориентироваться\n",
    "\n",
    "clf = GridSearchCV(estimator=lr, # оценщик (лог рег)\n",
    "                   param_grid=parameters,\n",
    "                   scoring='roc_auc',  # метрика\n",
    "                   cv=3,  # the cross-validation splitting strategy\n",
    "                   verbose=0)  # отстутствие сообщений\n",
    "clf.fit(X_train_std, y_train)\n",
    "\n",
    "# получаем вероятности\n",
    "y_train_grid = clf.predict_proba(X_train_std)\n",
    "y_test_grid = clf.predict_proba(X_test_std)\n",
    "\n",
    "# рассмотрим метрику ROC-AUC\n",
    "print(f'ROC-AUC train = {roc_auc_score(y_train, y_train_grid[:, 1]):.4f}')\n",
    "print(f'ROC-AUC test = {roc_auc_score(y_test, y_test_grid[:, 1]):.4f}')"
   ]
  },
  {
   "cell_type": "code",
   "execution_count": 4,
   "id": "bbf13e3b",
   "metadata": {},
   "outputs": [
    {
     "data": {
      "text/plain": [
       "{'C': 1,\n",
       " 'class_weight': 'balanced',\n",
       " 'max_iter': 1000,\n",
       " 'penalty': 'l2',\n",
       " 'random_state': 42,\n",
       " 'solver': 'saga'}"
      ]
     },
     "execution_count": 4,
     "metadata": {},
     "output_type": "execute_result"
    }
   ],
   "source": [
    "# посмотрим набор лучших параметров\n",
    "clf.best_params_"
   ]
  },
  {
   "cell_type": "code",
   "execution_count": 5,
   "id": "fc4178d0",
   "metadata": {},
   "outputs": [
    {
     "data": {
      "text/plain": [
       "LogisticRegression(C=1, class_weight='balanced', max_iter=1000, random_state=42,\n",
       "                   solver='saga')"
      ]
     },
     "execution_count": 5,
     "metadata": {},
     "output_type": "execute_result"
    }
   ],
   "source": [
    "# лучшая обученная модель\n",
    "clf.best_estimator_"
   ]
  },
  {
   "cell_type": "code",
   "execution_count": 9,
   "id": "f9d670e5",
   "metadata": {},
   "outputs": [
    {
     "name": "stdout",
     "output_type": "stream",
     "text": [
      "Package                       Version\n",
      "----------------------------- --------------------\n",
      "alabaster                     0.7.12\n",
      "anaconda-client               1.11.0\n",
      "anaconda-navigator            2.3.1\n",
      "anaconda-project              0.11.1\n",
      "anyio                         3.5.0\n",
      "appdirs                       1.4.4\n",
      "argon2-cffi                   21.3.0\n",
      "argon2-cffi-bindings          21.2.0\n",
      "arrow                         1.2.2\n",
      "astroid                       2.11.7\n",
      "astropy                       5.1\n",
      "atomicwrites                  1.4.0\n",
      "attrs                         21.4.0\n",
      "Automat                       20.2.0\n",
      "autopep8                      1.6.0\n",
      "Babel                         2.9.1\n",
      "backcall                      0.2.0\n",
      "backports.functools-lru-cache 1.6.4\n",
      "backports.tempfile            1.0\n",
      "backports.weakref             1.0.post1\n",
      "bcrypt                        3.2.0\n",
      "beautifulsoup4                4.11.1\n",
      "binaryornot                   0.4.4\n",
      "bitarray                      2.5.1\n",
      "bkcharts                      0.2\n",
      "black                         22.6.0\n",
      "bleach                        4.1.0\n",
      "bokeh                         2.4.3\n",
      "boto3                         1.24.28\n",
      "botocore                      1.27.28\n",
      "Bottleneck                    1.3.5\n",
      "brotlipy                      0.7.0\n",
      "certifi                       2022.9.14\n",
      "cffi                          1.15.1\n",
      "chardet                       4.0.0\n",
      "charset-normalizer            2.0.4\n",
      "click                         8.0.4\n",
      "cloudpickle                   2.0.0\n",
      "clyent                        1.2.2\n",
      "colorama                      0.4.5\n",
      "colorcet                      3.0.0\n",
      "comtypes                      1.1.10\n",
      "conda                         22.9.0\n",
      "conda-build                   3.22.0\n",
      "conda-content-trust           0.1.3\n",
      "conda-pack                    0.6.0\n",
      "conda-package-handling        1.9.0\n",
      "conda-repo-cli                1.0.20\n",
      "conda-token                   0.4.0\n",
      "conda-verify                  3.4.2\n",
      "constantly                    15.1.0\n",
      "cookiecutter                  1.7.3\n",
      "cryptography                  37.0.1\n",
      "cssselect                     1.1.0\n",
      "cycler                        0.11.0\n",
      "Cython                        0.29.32\n",
      "cytoolz                       0.11.0\n",
      "daal4py                       2021.6.0\n",
      "dask                          2022.7.0\n",
      "datashader                    0.14.1\n",
      "datashape                     0.5.4\n",
      "debugpy                       1.5.1\n",
      "decorator                     5.1.1\n",
      "defusedxml                    0.7.1\n",
      "diff-match-patch              20200713\n",
      "dill                          0.3.4\n",
      "distributed                   2022.7.0\n",
      "docutils                      0.18.1\n",
      "entrypoints                   0.4\n",
      "et-xmlfile                    1.1.0\n",
      "fastjsonschema                2.16.2\n",
      "filelock                      3.6.0\n",
      "flake8                        4.0.1\n",
      "Flask                         1.1.2\n",
      "fonttools                     4.25.0\n",
      "fsspec                        2022.7.1\n",
      "future                        0.18.2\n",
      "gensim                        4.1.2\n",
      "glob2                         0.7\n",
      "greenlet                      1.1.1\n",
      "h5py                          3.7.0\n",
      "HeapDict                      1.0.1\n",
      "holoviews                     1.15.0\n",
      "hvplot                        0.8.0\n",
      "hyperlink                     21.0.0\n",
      "idna                          3.3\n",
      "imagecodecs                   2021.8.26\n",
      "imageio                       2.19.3\n",
      "imagesize                     1.4.1\n",
      "importlib-metadata            4.11.3\n",
      "incremental                   21.3.0\n",
      "inflection                    0.5.1\n",
      "iniconfig                     1.1.1\n",
      "intake                        0.6.5\n",
      "intervaltree                  3.1.0\n",
      "ipykernel                     6.15.2\n",
      "ipython                       7.31.1\n",
      "ipython-genutils              0.2.0\n",
      "ipywidgets                    7.6.5\n",
      "isort                         5.9.3\n",
      "itemadapter                   0.3.0\n",
      "itemloaders                   1.0.4\n",
      "itsdangerous                  2.0.1\n",
      "jdcal                         1.4.1\n",
      "jedi                          0.18.1\n",
      "jellyfish                     0.9.0\n",
      "Jinja2                        2.11.3\n",
      "jinja2-time                   0.2.0\n",
      "jmespath                      0.10.0\n",
      "joblib                        1.1.0\n",
      "json5                         0.9.6\n",
      "jsonschema                    4.16.0\n",
      "jupyter                       1.0.0\n",
      "jupyter_client                7.3.4\n",
      "jupyter-console               6.4.3\n",
      "jupyter_core                  4.11.1\n",
      "jupyter-server                1.18.1\n",
      "jupyterlab                    3.4.4\n",
      "jupyterlab-pygments           0.1.2\n",
      "jupyterlab-server             2.10.3\n",
      "jupyterlab-widgets            1.0.0\n",
      "keyring                       23.4.0\n",
      "kiwisolver                    1.4.2\n",
      "lazy-object-proxy             1.6.0\n",
      "libarchive-c                  2.9\n",
      "llvmlite                      0.38.0\n",
      "locket                        1.0.0\n",
      "lxml                          4.9.1\n",
      "lz4                           3.1.3\n",
      "Markdown                      3.3.4\n",
      "MarkupSafe                    2.0.1\n",
      "matplotlib                    3.5.2\n",
      "matplotlib-inline             0.1.6\n",
      "mccabe                        0.6.1\n",
      "menuinst                      1.4.19\n",
      "mistune                       0.8.4\n",
      "mkl-fft                       1.3.1\n",
      "mkl-random                    1.2.2\n",
      "mkl-service                   2.4.0\n",
      "mock                          4.0.3\n",
      "mpmath                        1.2.1\n",
      "msgpack                       1.0.3\n",
      "multipledispatch              0.6.0\n",
      "munkres                       1.1.4\n",
      "mypy-extensions               0.4.3\n",
      "navigator-updater             0.3.0\n",
      "nbclassic                     0.3.5\n",
      "nbclient                      0.5.13\n",
      "nbconvert                     6.4.4\n",
      "nbformat                      5.5.0\n",
      "nest-asyncio                  1.5.5\n",
      "networkx                      2.8.4\n",
      "nltk                          3.7\n",
      "nose                          1.3.7\n",
      "notebook                      6.4.12\n",
      "numba                         0.55.1\n",
      "numexpr                       2.8.3\n",
      "numpy                         1.21.5\n",
      "numpydoc                      1.4.0\n",
      "olefile                       0.46\n",
      "openpyxl                      3.0.10\n",
      "packaging                     21.3\n",
      "pandas                        1.4.4\n",
      "pandocfilters                 1.5.0\n",
      "panel                         0.13.1\n",
      "param                         1.12.0\n",
      "paramiko                      2.8.1\n",
      "parsel                        1.6.0\n",
      "parso                         0.8.3\n",
      "partd                         1.2.0\n",
      "pathlib                       1.0.1\n",
      "pathspec                      0.9.0\n",
      "patsy                         0.5.2\n",
      "pep8                          1.7.1\n",
      "pexpect                       4.8.0\n",
      "pickleshare                   0.7.5\n",
      "Pillow                        9.2.0\n",
      "pip                           22.2.2\n",
      "pkginfo                       1.8.2\n",
      "platformdirs                  2.5.2\n",
      "plotly                        5.9.0\n",
      "pluggy                        1.0.0\n",
      "poyo                          0.5.0\n",
      "prometheus-client             0.14.1\n",
      "prompt-toolkit                3.0.20\n",
      "Protego                       0.1.16\n",
      "psutil                        5.9.0\n",
      "ptyprocess                    0.7.0\n",
      "py                            1.11.0\n",
      "pyasn1                        0.4.8\n",
      "pyasn1-modules                0.2.8\n",
      "pycodestyle                   2.8.0\n",
      "pycosat                       0.6.3\n",
      "pycparser                     2.21\n",
      "pyct                          0.4.8\n",
      "pycurl                        7.45.1\n",
      "PyDispatcher                  2.0.5\n",
      "pydocstyle                    6.1.1\n",
      "pyerfa                        2.0.0\n",
      "pyflakes                      2.4.0\n",
      "Pygments                      2.11.2\n",
      "PyHamcrest                    2.0.2\n",
      "PyJWT                         2.4.0\n",
      "pylint                        2.14.5\n",
      "pyls-spyder                   0.4.0\n",
      "PyNaCl                        1.5.0\n",
      "pyodbc                        4.0.34\n",
      "pyOpenSSL                     22.0.0\n",
      "pyparsing                     3.0.9\n",
      "pyrsistent                    0.18.0\n",
      "PySocks                       1.7.1\n",
      "pytest                        7.1.2\n",
      "python-dateutil               2.8.2\n",
      "python-lsp-black              1.0.0\n",
      "python-lsp-jsonrpc            1.0.0\n",
      "python-lsp-server             1.3.3\n",
      "python-slugify                5.0.2\n",
      "python-snappy                 0.6.0\n",
      "pytz                          2022.1\n",
      "pyviz-comms                   2.0.2\n",
      "PyWavelets                    1.3.0\n",
      "pywin32                       302\n",
      "pywin32-ctypes                0.2.0\n",
      "pywinpty                      2.0.2\n",
      "PyYAML                        6.0\n",
      "pyzmq                         23.2.0\n",
      "QDarkStyle                    3.0.2\n",
      "qstylizer                     0.1.10\n",
      "QtAwesome                     1.0.3\n",
      "qtconsole                     5.2.2\n",
      "QtPy                          2.2.0\n",
      "queuelib                      1.5.0\n",
      "regex                         2022.7.9\n",
      "requests                      2.28.1\n",
      "requests-file                 1.5.1\n",
      "rope                          0.22.0\n",
      "Rtree                         0.9.7\n",
      "ruamel-yaml-conda             0.15.100\n",
      "s3transfer                    0.6.0\n",
      "scikit-image                  0.19.2\n",
      "scikit-learn                  1.0.2\n",
      "scikit-learn-intelex          2021.20221004.171935\n",
      "scipy                         1.9.1\n",
      "Scrapy                        2.6.2\n",
      "seaborn                       0.11.2\n",
      "Send2Trash                    1.8.0\n",
      "service-identity              18.1.0\n",
      "setuptools                    63.4.1\n",
      "sip                           4.19.13\n",
      "six                           1.16.0\n",
      "smart-open                    5.2.1\n",
      "sniffio                       1.2.0\n",
      "snowballstemmer               2.2.0\n",
      "sortedcollections             2.1.0\n",
      "sortedcontainers              2.4.0\n",
      "soupsieve                     2.3.1\n",
      "Sphinx                        5.0.2\n",
      "sphinxcontrib-applehelp       1.0.2\n",
      "sphinxcontrib-devhelp         1.0.2\n",
      "sphinxcontrib-htmlhelp        2.0.0\n",
      "sphinxcontrib-jsmath          1.0.1\n",
      "sphinxcontrib-qthelp          1.0.3\n",
      "sphinxcontrib-serializinghtml 1.1.5\n",
      "spyder                        5.2.2\n",
      "spyder-kernels                2.2.1\n",
      "SQLAlchemy                    1.4.39\n",
      "statsmodels                   0.13.2\n",
      "sympy                         1.10.1\n",
      "tables                        3.6.1\n",
      "tabulate                      0.8.10\n",
      "TBB                           0.2\n",
      "tblib                         1.7.0\n",
      "tenacity                      8.0.1\n",
      "terminado                     0.13.1\n",
      "testpath                      0.6.0\n",
      "text-unidecode                1.3\n",
      "textdistance                  4.2.1\n",
      "threadpoolctl                 2.2.0\n",
      "three-merge                   0.1.1\n",
      "tifffile                      2021.7.2\n",
      "tinycss                       0.4\n",
      "tldextract                    3.2.0\n",
      "toml                          0.10.2\n",
      "tomli                         2.0.1\n",
      "tomlkit                       0.11.1\n",
      "toolz                         0.11.2\n",
      "tornado                       6.1\n",
      "tqdm                          4.64.1\n",
      "traitlets                     5.1.1\n",
      "Twisted                       22.2.0\n",
      "twisted-iocpsupport           1.0.2\n",
      "typing_extensions             4.3.0\n",
      "ujson                         5.4.0\n",
      "Unidecode                     1.2.0\n",
      "urllib3                       1.26.11\n",
      "w3lib                         1.21.0\n",
      "watchdog                      2.1.6\n",
      "wcwidth                       0.2.5\n",
      "webencodings                  0.5.1\n",
      "websocket-client              0.58.0\n",
      "Werkzeug                      2.0.3\n",
      "wheel                         0.37.1\n",
      "widgetsnbextension            3.5.2\n",
      "win-inet-pton                 1.1.0\n",
      "win-unicode-console           0.5\n",
      "wincertstore                  0.2\n",
      "wrapt                         1.14.1\n",
      "xarray                        0.20.1\n",
      "xlrd                          2.0.1\n",
      "XlsxWriter                    3.0.3\n",
      "xlwings                       0.27.15\n",
      "yapf                          0.31.0\n",
      "zict                          2.1.0\n",
      "zipp                          3.8.0\n",
      "zope.interface                5.4.0\n"
     ]
    }
   ],
   "source": [
    "# список версий библиотек, используемых для проекта\n",
    "!pip list"
   ]
  },
  {
   "cell_type": "code",
   "execution_count": null,
   "id": "7d26fbd7",
   "metadata": {},
   "outputs": [],
   "source": [
    "# рассмотрим распределение целевой переменной y\n",
    "sns.set(rc={'figure.figsize': (9, 6)})\n",
    "sns.kdeplot(df.y, fill=True, color='teal');"
   ]
  },
  {
   "cell_type": "markdown",
   "id": "1a037a71",
   "metadata": {},
   "source": [
    "Отметим, что распределение ненормальное, есть длинных хвост, поэтому стоит аккуратно подходить к выбору метрики. Больше всего будем ориентироваться на MAE, так как метрику устойчива к выбросам."
   ]
  },
  {
   "cell_type": "markdown",
   "id": "af5eb862",
   "metadata": {},
   "source": [
    "# Pipeline + Grid Search"
   ]
  },
  {
   "cell_type": "code",
   "execution_count": null,
   "id": "96ddca2f",
   "metadata": {},
   "outputs": [],
   "source": [
    "COLORS = ['#408FB0', '#50B985', '#DB565F', '#FCB06E']\n",
    "customPalette = sns.set_palette(sns.color_palette(COLORS))"
   ]
  },
  {
   "cell_type": "code",
   "execution_count": null,
   "id": "3681e03e",
   "metadata": {},
   "outputs": [],
   "source": [
    "sns.boxplot(data=df, \n",
    "            x='age_bins', \n",
    "            y='charges', \n",
    "            hue='sex', \n",
    "            palette=customPalette, \n",
    "            ax=axes[0])"
   ]
  },
  {
   "cell_type": "code",
   "execution_count": 3,
   "id": "beab3d85",
   "metadata": {},
   "outputs": [],
   "source": [
    "# функция для коэффициента детерминации множественной регрессии\n",
    "def r2_adjusted(y_true: pd.Series, y_pred: pd.Series,\n",
    "                X_test: pd.DataFrame) -> float:\n",
    "    \"\"\"\n",
    "    Коэффициент детерминации для множественной регрессии\n",
    "    \"\"\"\n",
    "    n = len(y_true)\n",
    "    h = X_test.shape[1]\n",
    "    r2 = r2_score(y_true, y_pred)\n",
    "\n",
    "    return 1 - (1 - r2) * (n - 1) / (n - h - 1)"
   ]
  },
  {
   "cell_type": "code",
   "execution_count": null,
   "id": "721a00e9",
   "metadata": {},
   "outputs": [],
   "source": [
    "# функция для получения метрик\n",
    "def get_metrics(y_test, model, X_test, name):\n",
    "    \"\"\"Получение датасета с метриками\"\"\"\n",
    "    y_pred = model.predict(X_test)\n",
    "    \n",
    "    df_metrics = pd.DataFrame()\n",
    "    df_metrics['model'] = [name]\n",
    "    df_metrics['MAE'] = [mean_absolute_error(y_test, y_pred)]\n",
    "    df_metrics['MSE'] = [mean_squared_error(y_test, y_pred)]\n",
    "    df_metrics['RMSE'] = [np.sqrt(mean_squared_error(y_test, y_pred))]\n",
    "    df_metrcis['R2 adjusted'] = [r2_adjusted(y_test, y_pred, X_test)]\n",
    "    return df_metrics\n",
    "\n",
    "\n",
    "# metrics_train = get_metrics(y_train, pipe, X_train, 'KNN train')\n",
    "# metrics_test = get_metrics(y_test, pipe, X_test, 'KNN test')\n",
    "\n",
    "# metrics = pd.concat([metrics_train, metrics_test])\n",
    "# round(metrics.set_index('model'), 2)"
   ]
  },
  {
   "cell_type": "code",
   "execution_count": null,
   "id": "3dd06df3",
   "metadata": {},
   "outputs": [],
   "source": [
    "# пример пайплайна\n",
    "pipe = Pipeline(steps=[('minmax', MinMaxScaler()), \n",
    "                       ('knn', KNeighborsRegressor())])"
   ]
  },
  {
   "cell_type": "code",
   "execution_count": null,
   "id": "cb6e9f67",
   "metadata": {},
   "outputs": [],
   "source": [
    "# создадим словарь с параметрами, которые хотим установить и перебрать\n",
    "parameters = {\n",
    "    'knn__n_neighbors': list(range(3, 32, 2)),\n",
    "    'knn__metric': ['euclidean', 'manhattan', 'minkowski'],\n",
    "    'knn__algorithm': [\"auto\", \"ball_tree\", \"kd_tree\", \"brute\"]\n",
    "}\n",
    "\n",
    "# подаем на вход модель, словарь с параметрами, установим, на какую метрику ориентироваться\n",
    "clf = GridSearchCV(estimator=pipe,\n",
    "                   param_grid=parameters,\n",
    "                   scoring='neg_mean_absolute_error',\n",
    "                   cv=3,\n",
    "                   verbose=0)\n",
    "clf.fit(X_train, y_train)"
   ]
  },
  {
   "cell_type": "code",
   "execution_count": null,
   "id": "290dbe56",
   "metadata": {},
   "outputs": [],
   "source": [
    "# Наши параметры подобрались, посмотрим на лучшие из значений\n",
    "clf.best_estimator_"
   ]
  },
  {
   "cell_type": "code",
   "execution_count": null,
   "id": "f426e385",
   "metadata": {},
   "outputs": [],
   "source": [
    "# Посмотрим на распределения предсказанных значений и тестовых данных.\n",
    "y_pred_test = clf.predict(X_test)\n",
    "sns.kdeplot(y_test, fill=True, palette=customPalette, label='y_test')\n",
    "sns.kdeplot(y_pred_test, fill=True, palette=customPalette, label='y_test_pred')\n",
    "plt.legend();"
   ]
  },
  {
   "cell_type": "code",
   "execution_count": null,
   "id": "4a5715b1",
   "metadata": {},
   "outputs": [],
   "source": [
    "# после того как модель обучена найдем самые важные признаки\n",
    "from sklearn.inspection import permutation_importance\n",
    "\n",
    "results = permutation_importance(clf,\n",
    "                                 X_test,\n",
    "                                 y_test,\n",
    "                                 n_repeats=30,\n",
    "                                 random_state=RANDOM_STATE,\n",
    "                                 scoring='neg_mean_squared_error')\n",
    "\n",
    "perm_df = pd.DataFrame({'col': X.columns, 'value': results.importances_mean})\n",
    "perm_df = round(perm_df.sort_values(by='value', ascending=False), 1)\n",
    "perm_df"
   ]
  },
  {
   "cell_type": "code",
   "execution_count": null,
   "id": "ee307b0d",
   "metadata": {},
   "outputs": [],
   "source": [
    "# изобразим графически все важные признаки\n",
    "b = sns.barplot(data=perm_df, y='col', x='value', palette='viridis')\n",
    "b.set_xlabel('Importances mean', fontsize=16)\n",
    "b.set_ylabel('Features', fontsize=16)\n",
    "b.set_title('Feature Importance', fontsize=20)\n",
    "b.tick_params(labelsize=14);"
   ]
  }
 ],
 "metadata": {
  "kernelspec": {
   "display_name": "Python 3 (ipykernel)",
   "language": "python",
   "name": "python3"
  },
  "language_info": {
   "codemirror_mode": {
    "name": "ipython",
    "version": 3
   },
   "file_extension": ".py",
   "mimetype": "text/x-python",
   "name": "python",
   "nbconvert_exporter": "python",
   "pygments_lexer": "ipython3",
   "version": "3.9.13"
  }
 },
 "nbformat": 4,
 "nbformat_minor": 5
}
