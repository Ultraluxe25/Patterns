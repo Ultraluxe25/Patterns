{
 "cells": [
  {
   "cell_type": "code",
   "execution_count": 39,
   "id": "403737e2",
   "metadata": {},
   "outputs": [],
   "source": [
    "import sys\n",
    "import json\n",
    "import requests\n",
    "import pandas as pd"
   ]
  },
  {
   "cell_type": "code",
   "execution_count": 46,
   "id": "c893166b",
   "metadata": {},
   "outputs": [],
   "source": [
    "def parse_json(user='379983772'):\n",
    "    \"\"\"request users page\"\"\"\n",
    "    try:\n",
    "        info = requests.get('https://stepik.org/api/users/' + user, timeout=10)\n",
    "    except requests.exceptions.Timeout:\n",
    "        sys.exit(\"Timeout occurred\")\n",
    "    loaded_json = json.loads(info.text)\n",
    "    # print(json.dumps(loaded_json, indent=4))\n",
    "    return loaded_json"
   ]
  },
  {
   "cell_type": "code",
   "execution_count": 47,
   "id": "705019bf",
   "metadata": {},
   "outputs": [],
   "source": [
    "user = parse_json()"
   ]
  },
  {
   "cell_type": "code",
   "execution_count": 48,
   "id": "c1718f68",
   "metadata": {},
   "outputs": [],
   "source": [
    "stepik = pd.Series(user)"
   ]
  },
  {
   "cell_type": "code",
   "execution_count": 49,
   "id": "4005287e",
   "metadata": {},
   "outputs": [],
   "source": [
    "result = stepik.users[0]['solved_steps_count']"
   ]
  },
  {
   "cell_type": "code",
   "execution_count": 50,
   "id": "f84c5ffc",
   "metadata": {},
   "outputs": [],
   "source": [
    "name = stepik.users[0]['full_name']"
   ]
  },
  {
   "cell_type": "code",
   "execution_count": 51,
   "id": "10926132",
   "metadata": {},
   "outputs": [
    {
     "name": "stdout",
     "output_type": "stream",
     "text": [
      "Пользователь Каптуров Александр Васильевич заработал очков знаний: 10989\n"
     ]
    }
   ],
   "source": [
    "print(f'Пользователь {name} заработал очков знаний: {result}')"
   ]
  }
 ],
 "metadata": {
  "kernelspec": {
   "display_name": "Python 3 (ipykernel)",
   "language": "python",
   "name": "python3"
  },
  "language_info": {
   "codemirror_mode": {
    "name": "ipython",
    "version": 3
   },
   "file_extension": ".py",
   "mimetype": "text/x-python",
   "name": "python",
   "nbconvert_exporter": "python",
   "pygments_lexer": "ipython3",
   "version": "3.10.8"
  }
 },
 "nbformat": 4,
 "nbformat_minor": 5
}
